{
 "cells": [
  {
   "cell_type": "markdown",
   "metadata": {},
   "source": [
    "##  Estimating 1D integrals \n",
    "\n",
    "Compute the integral of $f(x) = \\frac{1}{1+x^2}e^{-x}$ between the limits 0 and 1"
   ]
  },
  {
   "cell_type": "markdown",
   "metadata": {},
   "source": [
    "### Estimate using the exponential distribution"
   ]
  },
  {
   "cell_type": "code",
   "execution_count": 1,
   "metadata": {},
   "outputs": [
    {
     "name": "stdout",
     "output_type": "stream",
     "text": [
      "Estimate :  5.275093e-01 Standard Error 1.321590e-03 Rel Error 5.168269e-01 %\n"
     ]
    }
   ],
   "source": [
    "import numpy as np\n",
    "import math\n",
    "\n",
    "prng = np.random.default_rng()\n",
    "\n",
    "nsamples             = 100000\n",
    "truth                = 0.524797\n",
    "\n",
    "# Get n random numbers from the exponential distribution\n",
    "x_is                 = prng.exponential(size=nsamples)\n",
    "\n",
    "# For each random number x_i, compute x_i*x_i\n",
    "g_of_xis             = 1 / (1 + x_is**2)\n",
    "\n",
    "# Filter values by applying indicator function\n",
    "h_of_xis             = np.where(x_is<1.0, g_of_xis, 0)\n",
    "\n",
    "# From LLN \n",
    "estimate             = np.sum(h_of_xis)/nsamples\n",
    "\n",
    "# Estimates of error\n",
    "std_error            = math.sqrt(np.var(h_of_xis, ddof = 1) / nsamples)\n",
    "rel_error            = (np.abs(estimate - truth)/truth) * 100\n",
    "\n",
    "print(\"Estimate : \", f\"{estimate:e}\", f\"Standard Error {std_error:e}\", \\\n",
    "  f\"Rel Error {rel_error:e} %\")"
   ]
  },
  {
   "cell_type": "markdown",
   "metadata": {},
   "source": [
    "##  Poor convergence \n",
    "\n",
    "Compute the value of the definite integral shown below\n",
    "\n",
    "$$\\int_{3}^{\\infty} \\frac{1}{\\sqrt{2 \\pi}} e^{-x^2/2} dx$$"
   ]
  },
  {
   "cell_type": "code",
   "execution_count": 11,
   "metadata": {},
   "outputs": [
    {
     "name": "stdout",
     "output_type": "stream",
     "text": [
      "True value  1.349898e-03\n",
      "Estimate :  1.400000e-03 Standard Error 3.739224e-04 Rel Error 3.711537e+00 %\n"
     ]
    }
   ],
   "source": [
    "import numpy as np\n",
    "import math\n",
    "from scipy.stats import norm\n",
    "\n",
    "prng = np.random.default_rng()\n",
    "\n",
    "nsamples             = 10000\n",
    "truth                = 1-norm.cdf(3)\n",
    "\n",
    "# Regular Sampling\n",
    "\n",
    "x_is                 = prng.normal(size=nsamples)\n",
    "k_of_xis             = np.ones(nsamples) \n",
    "h_of_xis             = np.where(x_is<3.0,0,k_of_xis)\n",
    "\n",
    "estimate             = np.sum(h_of_xis)/nsamples\n",
    "std_error            = math.sqrt(np.var(h_of_xis, ddof = 1) / nsamples)\n",
    "rel_error            = (np.abs(estimate - truth)/truth) * 100\n",
    "\n",
    "print(\"True value \", f\"{truth:e}\")\n",
    "print(\"Estimate : \", f\"{estimate:e}\", f\"Standard Error {std_error:e}\", \\\n",
    "      f\"Rel Error {rel_error:e} %\")"
   ]
  },
  {
   "cell_type": "markdown",
   "metadata": {},
   "source": [
    "## Importance Sampling"
   ]
  },
  {
   "cell_type": "code",
   "execution_count": 10,
   "metadata": {},
   "outputs": [
    {
     "name": "stdout",
     "output_type": "stream",
     "text": [
      "True value  1.349898e-03\n",
      "Estimate :  1.342688e-03 Standard Error 3.119402e-05 Rel Error 5.341135e-01 %\n"
     ]
    }
   ],
   "source": [
    "import numpy as np\n",
    "import math\n",
    "from scipy.stats import norm\n",
    "\n",
    "prng = np.random.default_rng()\n",
    "\n",
    "nsamples             = 10000\n",
    "truth                = 1-norm.cdf(3)\n",
    "\n",
    "# Importance Sampling\n",
    "\n",
    "x_is                 = prng.normal(loc=4,scale=1,size=nsamples)\n",
    "k_of_xis             = norm.pdf(x_is,loc=0)/norm.pdf(x_is,loc=4) \n",
    "h_of_xis             = np.where(x_is<3.0,0,k_of_xis)\n",
    "\n",
    "estimate             = np.sum(h_of_xis)/nsamples\n",
    "std_error            = math.sqrt(np.var(h_of_xis, ddof = 1) / nsamples)\n",
    "rel_error            = (np.abs(estimate - truth)/truth) * 100\n",
    "\n",
    "print(\"True value \", f\"{truth:e}\")\n",
    "print(\"Estimate : \", f\"{estimate:e}\", f\"Standard Error {std_error:e}\", \\\n",
    "      f\"Rel Error {rel_error:e} %\")"
   ]
  },
  {
   "cell_type": "code",
   "execution_count": null,
   "metadata": {},
   "outputs": [],
   "source": []
  }
 ],
 "metadata": {
  "kernelspec": {
   "display_name": "Python 3",
   "language": "python",
   "name": "python3"
  },
  "language_info": {
   "codemirror_mode": {
    "name": "ipython",
    "version": 3
   },
   "file_extension": ".py",
   "mimetype": "text/x-python",
   "name": "python",
   "nbconvert_exporter": "python",
   "pygments_lexer": "ipython3",
   "version": "3.8.5"
  }
 },
 "nbformat": 4,
 "nbformat_minor": 4
}
