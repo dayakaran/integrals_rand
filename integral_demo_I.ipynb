{
 "cells": [
  {
   "cell_type": "markdown",
   "metadata": {},
   "source": [
    "### Linear Congruential Generator\n",
    "\n",
    "Starting from a seed $I_0$ subsequent numbers are generated from the relation\n",
    "\n",
    "$$I_{j+1}=(aI_j + c) \\quad \\% \\quad m$$\n",
    "\n",
    "A common choice for the constants are $a = 48271$, $m = 2^{31} - 1$ and $c = 0$"
   ]
  },
  {
   "cell_type": "code",
   "execution_count": 1,
   "metadata": {},
   "outputs": [
    {
     "name": "stdout",
     "output_type": "stream",
     "text": [
      "Get 5 random numbers \n",
      "425057431\n",
      "888488363\n",
      "825856136\n",
      "1162601595\n",
      "1898928841\n"
     ]
    }
   ],
   "source": [
    "# Creating a random number generator\n",
    "def lcg(num = 1, m = 2**31 - 1, a = 48271, c = 0, seed = 231246):\n",
    "\n",
    "    i1  = seed\n",
    "    cnt = 0\n",
    "    \n",
    "    while (cnt<num):\n",
    "        \n",
    "        i1   = (a * i1 + c) % m\n",
    "        yield i1\n",
    "        cnt += 1 \n",
    "        \n",
    "        \n",
    "print(\"Get 5 random numbers \")\n",
    "\n",
    "for r in lcg(5):\n",
    "    print(r)"
   ]
  },
  {
   "cell_type": "markdown",
   "metadata": {},
   "source": [
    "### Generating random numbers using numpy"
   ]
  },
  {
   "cell_type": "code",
   "execution_count": 11,
   "metadata": {},
   "outputs": [
    {
     "name": "stdout",
     "output_type": "stream",
     "text": [
      "Get 5 random numbers \n",
      "0.979013\n",
      "0.81477\n",
      "0.647282\n",
      "0.755429\n",
      "0.079963\n",
      "\n",
      "A new random number generator with the same seed\n",
      "0.979013\n",
      "0.81477\n",
      "0.647282\n",
      "0.755429\n",
      "0.079963\n"
     ]
    }
   ],
   "source": [
    "import numpy as np\n",
    "\n",
    "seed = 34098234\n",
    "\n",
    "# Create a random number generator object\n",
    "prng_I = np.random.default_rng(seed)\n",
    "\n",
    "# Getting 5 random numbers between 0 and 1\n",
    "\n",
    "print(\"Get 5 random numbers \")\n",
    "\n",
    "for _ in range(5):\n",
    "    print(np.round(prng_I.random(), 6))\n",
    "    \n",
    "    \n",
    "    \n",
    "    \n",
    "   \n",
    "print('\\nA new random number generator with the same seed')    \n",
    "\n",
    "prng_II = np.random.default_rng(seed)\n",
    "\n",
    "for _ in range(5):\n",
    "    print(np.round(prng_II.random(), 6))\n"
   ]
  },
  {
   "cell_type": "markdown",
   "metadata": {},
   "source": [
    "##  Estimating 1D integrals \n",
    "\n",
    "Compute the integral of $f(x) = x^2$ between the limits 0 and 1"
   ]
  },
  {
   "cell_type": "code",
   "execution_count": 12,
   "metadata": {},
   "outputs": [
    {
     "name": "stdout",
     "output_type": "stream",
     "text": [
      "Truth:  3.333333e-01  Estimate :  3.331987e-01 Rel Error 4.038678e-02\n"
     ]
    }
   ],
   "source": [
    "import numpy as np\n",
    "import math\n",
    "\n",
    "seed = 728345\n",
    "\n",
    "# Create random number generator\n",
    "prng = np.random.default_rng(seed)\n",
    "\n",
    "# No. of I.I.Ds drawn\n",
    "nsamples = 100000\n",
    "\n",
    "# True result - this is typically the unknown\n",
    "# Since this is a demo we know this value\n",
    "truth    = 1/3\n",
    "\n",
    "# Limits\n",
    "a,b      = 0,1\n",
    "\n",
    "h_of_xis = []\n",
    "\n",
    "for _ in range(nsamples):\n",
    "    \n",
    "    # Get 1 uniform random number between a , b\n",
    "    x_is = (b-a)*prng.random() + a\n",
    "    \n",
    "    # For each random number x_i, compute x_i*x_i\n",
    "    h_of_xis.append((b-a)*x_is*x_is)\n",
    "\n",
    "# From LLN\n",
    "estimate = np.sum(np.array(h_of_xis))/nsamples\n",
    "\n",
    "# Relative error computed from the true value and the estimate\n",
    "rel_error = (abs(estimate - truth)/truth) * 100\n",
    "\n",
    "print(\"Truth: \", f\"{truth:e}\",\" Estimate : \", f\"{estimate:e}\", f\"Rel Error {rel_error:e}\")"
   ]
  },
  {
   "cell_type": "markdown",
   "metadata": {},
   "source": [
    "### Alternative solution (faster)"
   ]
  },
  {
   "cell_type": "code",
   "execution_count": 8,
   "metadata": {},
   "outputs": [
    {
     "name": "stdout",
     "output_type": "stream",
     "text": [
      "Truth:  3.333333e-01  Estimate :  3.331987e-01 Rel Error 4.038678e-02\n"
     ]
    }
   ],
   "source": [
    "import numpy as np\n",
    "import math\n",
    "\n",
    "seed = 728345\n",
    "\n",
    "# Create random number generator\n",
    "prng = np.random.default_rng(seed)\n",
    "\n",
    "# No. of I.I.Ds drawn\n",
    "nsamples = 100000\n",
    "\n",
    "# True result - this is typically the unknown\n",
    "# Since this is a demo we know this value\n",
    "truth    = 1/3\n",
    "\n",
    "# Limits\n",
    "a,b      = 0,1\n",
    "\n",
    "h_of_xis = []\n",
    "    \n",
    "# Get uniform random numbers between a , b\n",
    "x_is = (b-a)*prng.random(size = nsamples) + a\n",
    "    \n",
    "# For each random number x_i, compute x_i*x_i - this is an array operation\n",
    "h_of_xis = (b-a)*x_is*x_is\n",
    "\n",
    "# From LLN\n",
    "estimate = np.sum(h_of_xis)/nsamples\n",
    "\n",
    "# Relative error computed from the true value and the estimate\n",
    "rel_error = (abs(estimate - truth)/truth) * 100\n",
    "\n",
    "print(\"Truth: \", f\"{truth:e}\",\" Estimate : \", f\"{estimate:e}\", f\"Rel Error {rel_error:e}\")"
   ]
  },
  {
   "cell_type": "markdown",
   "metadata": {},
   "source": [
    "##  Estimating 2D integrals \n",
    "\n",
    "Compute the area of a circle of radius 1\n",
    "\n",
    "$$\\int_{-R}^{R}\\int_{-\\sqrt{R^2 - y^2}}^{\\sqrt{R^2 - y^2}} dxdy$$"
   ]
  },
  {
   "cell_type": "code",
   "execution_count": 26,
   "metadata": {},
   "outputs": [
    {
     "name": "stdout",
     "output_type": "stream",
     "text": [
      "Estimte of area:  3.142916e+00  Truth :  3.141593e+00\n"
     ]
    }
   ],
   "source": [
    "import random \n",
    "\n",
    "# Set number of successes to zero. An attempt is a successs if point is within\n",
    "n_circle_ind = 0\n",
    "\n",
    "# Set number of attempts to zero\n",
    "nsamples = 1000000\n",
    "\n",
    "seed = 728345\n",
    "\n",
    "# Create random number generator\n",
    "prng = np.random.default_rng(seed)\n",
    "\n",
    "# Limits\n",
    "a, b = -1, 1\n",
    "\n",
    "# Truth\n",
    "truth = math.pi\n",
    "\n",
    "# Repeat attempts N times\n",
    "for i in range(nsamples):\n",
    "\n",
    "    # Generate a random number\n",
    "    x_is = (b-a)*prng.random() + a\n",
    "    y_is = (b-a)*prng.random() + a\n",
    "\n",
    "    # Check if it is with the circle\n",
    "    if x_is**2 + y_is**2 < 1:\n",
    "        n_circle_ind += 1\n",
    "       \n",
    "print(\"Estimte of area: \", f\"{(n_circle_ind * ((b-a)**2))/nsamples:e}\",\" Truth : \", f\"{truth:e}\")"
   ]
  },
  {
   "cell_type": "markdown",
   "metadata": {},
   "source": [
    "### Alternative solution (faster)"
   ]
  },
  {
   "cell_type": "code",
   "execution_count": 27,
   "metadata": {},
   "outputs": [
    {
     "name": "stdout",
     "output_type": "stream",
     "text": [
      "Estimte of area:  3.141800e+00  Truth :  3.141593e+00\n"
     ]
    }
   ],
   "source": [
    "import random \n",
    "\n",
    "# Set number of successes to zero. An attempt is a successs if point is within\n",
    "n_circle_ind = 0\n",
    "\n",
    "# Set number of attempts to zero\n",
    "nsamples = 1000000\n",
    "\n",
    "seed = 728345\n",
    "\n",
    "# Create random number generator\n",
    "prng = np.random.default_rng(seed)\n",
    "\n",
    "# Limits\n",
    "a, b = -1, 1\n",
    "\n",
    "# Truth\n",
    "truth = math.pi\n",
    "\n",
    "# Repeat attempts N times\n",
    "\n",
    "# Generate a random number\n",
    "x_is = (b-a)*prng.random(size = nsamples) + a\n",
    "y_is = (b-a)*prng.random(size = nsamples) + a\n",
    "\n",
    "# Check if it is with the circle\n",
    "\n",
    "n_circle_ind = np.sum (np.where( x_is**2 + y_is**2 < 1, 1, 0 ))\n",
    "\n",
    "print(\"Estimte of area: \", f\"{(n_circle_ind * ((b-a)**2))/nsamples:e}\",\" Truth : \", f\"{truth:e}\")"
   ]
  }
 ],
 "metadata": {
  "kernelspec": {
   "display_name": "Python 3",
   "language": "python",
   "name": "python3"
  },
  "language_info": {
   "codemirror_mode": {
    "name": "ipython",
    "version": 3
   },
   "file_extension": ".py",
   "mimetype": "text/x-python",
   "name": "python",
   "nbconvert_exporter": "python",
   "pygments_lexer": "ipython3",
   "version": "3.8.5"
  }
 },
 "nbformat": 4,
 "nbformat_minor": 4
}
